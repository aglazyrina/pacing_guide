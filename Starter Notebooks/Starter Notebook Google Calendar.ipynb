{
 "cells": [
  {
   "cell_type": "code",
   "execution_count": 23,
   "id": "68c6e59a",
   "metadata": {},
   "outputs": [],
   "source": [
    "from gcsa.google_calendar import GoogleCalendar\n",
    "from gcsa.attendee import Attendee\n",
    "from gcsa.event import Event\n",
    "from gcsa.serializers.event_serializer import EventSerializer\n",
    "import pandas as pd\n",
    "import datetime"
   ]
  },
  {
   "cell_type": "markdown",
   "id": "e2cafec6",
   "metadata": {},
   "source": [
    "# Google calendar starter code"
   ]
  },
  {
   "cell_type": "markdown",
   "id": "77a82c2d",
   "metadata": {},
   "source": [
    "Setting up Google Calendar and Google Drive APIs:\n",
    "\n",
    "https://docs.google.com/document/d/1Fdc_QHOK_3cBo-nUV7JeNkc8D9w5B9uHbSbujRcH2As/edit?usp=sharing\n",
    "\n",
    "Solutions to some common API problems:\n",
    "\n",
    "https://docs.google.com/document/d/1mVFGM0Z3G--pVZtz_AY8riW0dIa_-7mld1u8XJciiX0/edit?usp=sharing\n",
    "\n",
    "Finding the calendar ID\n",
    "\n",
    "https://docs.google.com/document/d/13Lgv1Qhkc5bYOBMf5NR-LnMmCrOvcW6nE_ianAm_ZjM/edit?usp=sharing\n"
   ]
  },
  {
   "cell_type": "code",
   "execution_count": 24,
   "id": "1073ea51",
   "metadata": {},
   "outputs": [],
   "source": [
    "# # library installation\n",
    "# ! pip install gcsa\n",
    "# # library documentation link\n",
    "# # https://google-calendar-simple-api.readthedocs.io/en/latest/index.html"
   ]
  },
  {
   "cell_type": "code",
   "execution_count": 25,
   "id": "a147ecc5",
   "metadata": {},
   "outputs": [
    {
     "name": "stdout",
     "output_type": "stream",
     "text": [
      "Please visit this URL to authorize this application: https://accounts.google.com/o/oauth2/auth?response_type=code&client_id=337587925879-2ojgtniijsptsjnkt79g60tre6qgpm14.apps.googleusercontent.com&redirect_uri=http%3A%2F%2Flocalhost%3A8080%2F&scope=https%3A%2F%2Fwww.googleapis.com%2Fauth%2Fcalendar&state=yTP35js93XjgsxDieH4DwnjRTuwamf&access_type=offline\n"
     ]
    }
   ],
   "source": [
    "# This is the credentials.json file that you downloaded from Cloud Platform\n",
    "CREDENTIALS_PATH = '/Users/annaglazyrina/Anna_Glazyrina_MSA /Pacing Guide Bot/credentials.json'\n",
    "# This is the id of the calendar (instructions link below)\n",
    "# https://docs.google.com/document/d/13Lgv1Qhkc5bYOBMf5NR-LnMmCrOvcW6nE_ianAm_ZjM/edit?usp=sharing\n",
    "# TO USE YOUR FULL PERSONAL CALENDAR JUST INSERT YOUR EMAIL\n",
    "ORANGE_CALENDAR_ID = 'letters_and_numbers@group.calendar.google.com'\n",
    "\n",
    "orange_calendar = GoogleCalendar(ORANGE_CALENDAR_ID,credentials_path=CREDENTIALS_PATH)"
   ]
  },
  {
   "cell_type": "code",
   "execution_count": 26,
   "id": "eb7414ca",
   "metadata": {},
   "outputs": [],
   "source": [
    "# List all of the events in the calendar\n",
    "events_list = []\n",
    "for event in orange_calendar:\n",
    "    events_list.append(EventSerializer.to_json(event))"
   ]
  },
  {
   "cell_type": "code",
   "execution_count": 27,
   "id": "85454be1",
   "metadata": {},
   "outputs": [
    {
     "data": {
      "text/plain": [
       "{'summary': 'Leave free before exam',\n",
       " 'recurrence': [],\n",
       " 'attendees': [],\n",
       " 'guestsCanInviteOthers': True,\n",
       " 'guestsCanModify': False,\n",
       " 'guestsCanSeeOtherGuests': True,\n",
       " 'reminders': {'useDefault': True},\n",
       " 'attachments': [],\n",
       " 'kind': 'calendar#event',\n",
       " 'etag': '\"3250310624442000\"',\n",
       " 'status': 'confirmed',\n",
       " 'htmlLink': 'https://www.google.com/calendar/event?eid=MGptZjJlMWZocHVlYTNvbjhqN3RzOGJrbGEgZTFxN2ZhNnAxaGZxMW1zb2Rza3JnNXR2Z2tAZw',\n",
       " 'iCalUID': '0jmf2e1fhpuea3on8j7ts8bkla@google.com',\n",
       " 'sequence': 0,\n",
       " 'eventType': 'default',\n",
       " 'start': {'dateTime': '2021-09-21T09:00:00-04:00',\n",
       "  'timeZone': 'America/New_York'},\n",
       " 'end': {'dateTime': '2021-09-21T10:45:00-04:00',\n",
       "  'timeZone': 'America/New_York'}}"
      ]
     },
     "execution_count": 27,
     "metadata": {},
     "output_type": "execute_result"
    }
   ],
   "source": [
    "# Check one event \n",
    "events_list[0]"
   ]
  },
  {
   "cell_type": "code",
   "execution_count": null,
   "id": "0b73b57b",
   "metadata": {},
   "outputs": [],
   "source": []
  }
 ],
 "metadata": {
  "kernelspec": {
   "display_name": "Python 3",
   "language": "python",
   "name": "python3"
  },
  "language_info": {
   "codemirror_mode": {
    "name": "ipython",
    "version": 3
   },
   "file_extension": ".py",
   "mimetype": "text/x-python",
   "name": "python",
   "nbconvert_exporter": "python",
   "pygments_lexer": "ipython3",
   "version": "3.8.8"
  }
 },
 "nbformat": 4,
 "nbformat_minor": 5
}
